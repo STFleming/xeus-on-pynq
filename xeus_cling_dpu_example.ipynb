{
 "cells": [
  {
   "cell_type": "code",
   "execution_count": 1,
   "id": "ca6acc96-ccab-4adc-9f62-b785fa61a8da",
   "metadata": {},
   "outputs": [],
   "source": [
    "#pragma cling add_include_path(\"/miniconda3/include/opencv4\")\n",
    "#pragma cling add_include_path(\"/miniconda3/include\")\n",
    "#pragma cling add_library_path(\"/miniconda3/lib\")\n",
    "#pragma cling load(\"vart-runner\")\n",
    "#pragma cling load(\"opencv_videoio\")\n",
    "#pragma cling load(\"opencv_imgcodecs\")\n",
    "#pragma cling load(\"opencv_highgui\")\n",
    "#pragma cling load(\"opencv_imgproc\")\n",
    "#pragma cling load(\"opencv_core\")\n",
    "#pragma cling load(\"glog\")\n",
    "#pragma cling load(\"xir\")\n",
    "#pragma cling load(\"unilog\")\n",
    "#pragma cling load(\"pthread\")"
   ]
  },
  {
   "cell_type": "code",
   "execution_count": 2,
   "id": "e152f2ee-97d6-4a47-87fa-c95fdaa92a96",
   "metadata": {},
   "outputs": [],
   "source": [
    "#include <vart/mm/host_flat_tensor_buffer.hpp>\n",
    "#include <vart/runner.hpp>\n",
    "#include <xir/graph/graph.hpp>\n",
    "#include <xir/tensor/tensor.hpp>\n",
    "#include <xir/util/data_type.hpp>\n",
    "#include \"dpu_cling.h\""
   ]
  },
  {
   "cell_type": "code",
   "execution_count": 3,
   "id": "a8e9d95c-d676-49ac-b723-9cdc2c78f5a7",
   "metadata": {},
   "outputs": [
    {
     "name": "stdout",
     "output_type": "stream",
     "text": [
      "\n",
      "Image : bellpeppe-994958.JPEG\n",
      "top[0] prob = 0.994892  name = bell pepper\n",
      "top[1] prob = 0.004066  name = acorn squash\n",
      "top[2] prob = 0.000429  name = cucumber, cuke\n",
      "top[3] prob = 0.000260  name = spaghetti squash\n",
      "top[4] prob = 0.000202  name = zucchini, courgette\n",
      "\n",
      "Image : greyfox-672194.JPEG\n",
      "top[0] prob = 0.439749  name = grey fox, gray fox, Urocyon cinereoargenteus\n",
      "top[1] prob = 0.439749  name = red fox, Vulpes vulpes\n",
      "top[2] prob = 0.036097  name = kit fox, Vulpes macrotis\n",
      "top[3] prob = 0.021894  name = red wolf, maned wolf, Canis rufus, Canis niger\n",
      "top[4] prob = 0.013279  name = coyote, prairie wolf, brush wolf, Canis latrans\n",
      "\n",
      "Image : jinrikisha-911722.JPEG\n",
      "top[0] prob = 0.617202  name = jinrikisha, ricksha, rickshaw\n",
      "top[1] prob = 0.291546  name = tricycle, trike, velocipede\n",
      "top[2] prob = 0.039456  name = bicycle-built-for-two, tandem bicycle, tandem\n",
      "top[3] prob = 0.014515  name = car wheel\n",
      "top[4] prob = 0.003239  name = Model T\n",
      "\n",
      "Image : irishterrier-696543.JPEG\n",
      "top[0] prob = 0.877746  name = Brabancon griffon\n",
      "top[1] prob = 0.056112  name = Border terrier\n",
      "top[2] prob = 0.016076  name = Irish terrier\n",
      "top[3] prob = 0.012520  name = affenpinscher, monkey pinscher, monkey dog\n",
      "top[4] prob = 0.007594  name = cairn, cairn terrier\n"
     ]
    }
   ],
   "source": [
    "run(\"../dpu_resnet50.xmodel\");"
   ]
  }
 ],
 "metadata": {
  "kernelspec": {
   "display_name": "C++17",
   "language": "C++17",
   "name": "xcpp17"
  },
  "language_info": {
   "codemirror_mode": "text/x-c++src",
   "file_extension": ".cpp",
   "mimetype": "text/x-c++src",
   "name": "c++",
   "version": "17"
  }
 },
 "nbformat": 4,
 "nbformat_minor": 5
}
