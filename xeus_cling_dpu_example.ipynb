{
 "cells": [
  {
   "cell_type": "code",
   "execution_count": null,
   "id": "ca6acc96-ccab-4adc-9f62-b785fa61a8da",
   "metadata": {},
   "outputs": [],
   "source": [
    "#pragma cling add_include_path(\"/miniconda3/include/opencv4\")\n",
    "#pragma cling add_include_path(\"/miniconda3/include\")\n",
    "#pragma cling add_library_path(\"/miniconda3/lib\")\n",
    "#pragma cling load(\"vart-runner\")\n",
    "#pragma cling load(\"opencv_videoio\")\n",
    "#pragma cling load(\"opencv_imgcodecs\")\n",
    "#pragma cling load(\"opencv_highgui\")\n",
    "#pragma cling load(\"opencv_imgproc\")\n",
    "#pragma cling load(\"opencv_core\")\n",
    "#pragma cling load(\"glog\")\n",
    "#pragma cling load(\"xir\")\n",
    "#pragma cling load(\"unilog\")\n",
    "#pragma cling load(\"pthread\")"
   ]
  },
  {
   "cell_type": "code",
   "execution_count": null,
   "id": "e152f2ee-97d6-4a47-87fa-c95fdaa92a96",
   "metadata": {},
   "outputs": [],
   "source": [
    "#include <vart/mm/host_flat_tensor_buffer.hpp>\n",
    "#include <vart/runner.hpp>\n",
    "#include <xir/graph/graph.hpp>\n",
    "#include <xir/tensor/tensor.hpp>\n",
    "#include <xir/util/data_type.hpp>\n",
    "#include \"dpu_cling.h\""
   ]
  },
  {
   "cell_type": "code",
   "execution_count": null,
   "id": "a8e9d95c-d676-49ac-b723-9cdc2c78f5a7",
   "metadata": {},
   "outputs": [],
   "source": [
    "run(\"../dpu_resnet50.xmodel\");"
   ]
  }
 ],
 "metadata": {
  "kernelspec": {
   "display_name": "C++17",
   "language": "C++17",
   "name": "xcpp17"
  },
  "language_info": {
   "codemirror_mode": "text/x-c++src",
   "file_extension": ".cpp",
   "mimetype": "text/x-c++src",
   "name": "c++",
   "version": "17"
  }
 },
 "nbformat": 4,
 "nbformat_minor": 5
}
